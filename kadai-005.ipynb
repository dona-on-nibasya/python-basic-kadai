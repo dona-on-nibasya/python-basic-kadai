{
  "nbformat": 4,
  "nbformat_minor": 0,
  "metadata": {
    "colab": {
      "provenance": [],
      "toc_visible": true
    },
    "kernelspec": {
      "name": "python3",
      "display_name": "Python 3"
    },
    "language_info": {
      "name": "python"
    }
  },
  "cells": [
    {
      "cell_type": "code",
      "execution_count": 14,
      "metadata": {
        "colab": {
          "base_uri": "https://localhost:8080/"
        },
        "id": "7AcAXmJDAa_N",
        "outputId": "b734f3dc-4b7e-427b-ddaa-2882cd0e76a9"
      },
      "outputs": [
        {
          "output_type": "stream",
          "name": "stdout",
          "text": [
            "75.0cm^2\n"
          ]
        }
      ],
      "source": [
        "top_side = 10\n",
        "down_side = 20\n",
        "height = 5\n",
        "area = (top_side + down_side) * height / 2\n",
        "print(str(area) + \"cm^2\")"
      ]
    },
    {
      "cell_type": "code",
      "source": [
        "def area(top_side,down_side,height):\n",
        "   return (top_side+down_side) * height / 2\n",
        "print(str(area(10,20,5))+\"cm^2\")"
      ],
      "metadata": {
        "id": "uZRkxt_VAcZa",
        "colab": {
          "base_uri": "https://localhost:8080/"
        },
        "outputId": "ae03bfb0-95fc-4957-a8a8-d7f0de28e288"
      },
      "execution_count": null,
      "outputs": [
        {
          "output_type": "stream",
          "name": "stdout",
          "text": [
            "75.0cm^2\n"
          ]
        }
      ]
    },
    {
      "cell_type": "code",
      "execution_count": null,
      "metadata": {
        "id": "bgOdTqAeqKTO"
      },
      "outputs": [],
      "source": []
    }
  ]
}