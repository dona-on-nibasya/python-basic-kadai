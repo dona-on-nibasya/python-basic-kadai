{
  "nbformat": 4,
  "nbformat_minor": 0,
  "metadata": {
    "colab": {
      "provenance": [],
      "toc_visible": true
    },
    "kernelspec": {
      "name": "python3",
      "display_name": "Python 3"
    },
    "language_info": {
      "name": "python"
    }
  },
  "cells": [
    {
      "cell_type": "code",
      "execution_count": 20,
      "metadata": {
        "colab": {
          "base_uri": "https://localhost:8080/"
        },
        "id": "7AcAXmJDAa_N",
        "outputId": "5526cae7-3f60-418a-919d-2e4698cc6415"
      },
      "outputs": [
        {
          "output_type": "stream",
          "name": "stdout",
          "text": [
            "89\n"
          ]
        }
      ],
      "source": [
        "import random\n",
        "var = random.randint(1,100)\n",
        "if var % 3==0 and var % 5==0:\n",
        " print(\"FIZZBUZZ\")\n",
        "elif var % 5==0:\n",
        " print(\"BUZZ\")\n",
        "elif var % 3==0:\n",
        " print(\"FIZZ\")\n",
        "else:\n",
        " print(var)"
      ]
    },
    {
      "cell_type": "code",
      "source": [],
      "metadata": {
        "id": "uZRkxt_VAcZa"
      },
      "execution_count": 19,
      "outputs": []
    },
    {
      "cell_type": "code",
      "execution_count": null,
      "metadata": {
        "id": "bgOdTqAeqKTO"
      },
      "outputs": [],
      "source": []
    }
  ]
}