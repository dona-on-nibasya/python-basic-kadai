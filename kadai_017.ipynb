{
  "nbformat": 4,
  "nbformat_minor": 0,
  "metadata": {
    "colab": {
      "provenance": []
    },
    "kernelspec": {
      "name": "python3",
      "display_name": "Python 3"
    },
    "language_info": {
      "name": "python"
    }
  },
  "cells": [
    {
      "cell_type": "code",
      "execution_count": null,
      "metadata": {
        "id": "Y3WIsYMT1NrI"
      },
      "outputs": [],
      "source": []
    },
    {
      "cell_type": "code",
      "execution_count": 13,
      "metadata": {
        "colab": {
          "base_uri": "https://localhost:8080/"
        },
        "id": "7AcAXmJDAa_N",
        "outputId": "926a00bc-8e24-4967-a95a-4c17d9d5674d"
      },
      "outputs": [
        {
          "output_type": "stream",
          "name": "stdout",
          "text": [
            "yamada_is_adult\n",
            "tanaka_is_not_adult\n",
            "sato_is_adult\n"
          ]
        }
      ],
      "source": [
        "class Human:\n",
        "    def __init__(self,name,age):\n",
        "       self.name = name\n",
        "       self.age = age\n",
        "\n",
        "    def check_adult(self):\n",
        "        if self.age >= 20:\n",
        "          print(f\"{self.name}_is_adult\")\n",
        "        else:\n",
        "          print(f\"{self.name}_is_not_adult\")\n",
        "\n",
        "human1 = Human(\"yamada\" , 20)\n",
        "human2 = Human(\"tanaka\" , 15)\n",
        "human3 = Human(\"sato\" , 35 )\n",
        "\n",
        "human_list = [human1,human2,human3]\n",
        "\n",
        "for human in human_list:\n",
        "   human.check_adult()"
      ]
    }
  ]
}