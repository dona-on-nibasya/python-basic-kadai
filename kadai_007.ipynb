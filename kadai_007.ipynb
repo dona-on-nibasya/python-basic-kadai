{
  "nbformat": 4,
  "nbformat_minor": 0,
  "metadata": {
    "colab": {
      "provenance": [],
      "toc_visible": true
    },
    "kernelspec": {
      "name": "python3",
      "display_name": "Python 3"
    },
    "language_info": {
      "name": "python"
    }
  },
  "cells": [
    {
      "cell_type": "code",
      "execution_count": 1,
      "metadata": {
        "colab": {
          "base_uri": "https://localhost:8080/"
        },
        "id": "7AcAXmJDAa_N",
        "outputId": "074c2197-9322-49d0-9281-1ac4c66cbf3a"
      },
      "outputs": [
        {
          "output_type": "stream",
          "name": "stdout",
          "text": [
            "水曜日は晴れです\n"
          ]
        }
      ],
      "source": [
        "array=[\"月曜日は晴れです\",\"火曜日は飴です\",\"水曜日は晴れです\",\"木曜日は晴れです\",\"金曜日は曇りです\",\"土曜日は曇りのち雨です\",\"日曜日は雷雨です\"]\n",
        "print(array[2])"
      ]
    },
    {
      "cell_type": "code",
      "source": [
        "dictionary={\"mon\":\"晴れ\", \"tue\":\"雨\",\"wed\":\"晴れ\",\"thu\":\"晴れ\",\"fri\":\"曇り\",\"sat\":\"曇りのち雨\",\"sun\":\"雷雨\"}\n",
        "print(dictionary[\"wed\"])"
      ],
      "metadata": {
        "id": "uZRkxt_VAcZa",
        "colab": {
          "base_uri": "https://localhost:8080/"
        },
        "outputId": "deeadeed-cc13-4e19-929e-53a6ed0329ac"
      },
      "execution_count": 6,
      "outputs": [
        {
          "output_type": "stream",
          "name": "stdout",
          "text": [
            "晴れ\n"
          ]
        }
      ]
    },
    {
      "cell_type": "code",
      "execution_count": null,
      "metadata": {
        "id": "bgOdTqAeqKTO"
      },
      "outputs": [],
      "source": []
    }
  ]
}