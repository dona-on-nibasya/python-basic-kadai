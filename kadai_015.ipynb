{
  "nbformat": 4,
  "nbformat_minor": 0,
  "metadata": {
    "colab": {
      "provenance": []
    },
    "kernelspec": {
      "name": "python3",
      "display_name": "Python 3"
    },
    "language_info": {
      "name": "python"
    }
  },
  "cells": [
    {
      "cell_type": "code",
      "execution_count": null,
      "metadata": {
        "id": "Y3WIsYMT1NrI"
      },
      "outputs": [],
      "source": []
    },
    {
      "cell_type": "code",
      "execution_count": 3,
      "metadata": {
        "colab": {
          "base_uri": "https://localhost:8080/"
        },
        "id": "7AcAXmJDAa_N",
        "outputId": "f826f086-4bae-4c84-a725-390c9f7add1f"
      },
      "outputs": [
        {
          "output_type": "stream",
          "name": "stdout",
          "text": [
            "侍太郎 20\n"
          ]
        }
      ],
      "source": [
        "class Human:\n",
        "    def __init__(self,name,age):\n",
        "       self.name = name\n",
        "       self.age = age\n",
        "\n",
        "    def printinfo(self):\n",
        "      print(self.name,self.age)\n",
        "\n",
        "human = Human(\"侍太郎\", 20)\n",
        "\n",
        "human.printinfo()\n",
        "\n",
        "\n"
      ]
    }
  ]
}